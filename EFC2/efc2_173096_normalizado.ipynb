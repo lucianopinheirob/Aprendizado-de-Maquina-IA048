{
 "cells": [
  {
   "cell_type": "markdown",
   "id": "59794626",
   "metadata": {},
   "source": [
    "Luciano Pinheiro Batista 173096"
   ]
  },
  {
   "cell_type": "code",
   "execution_count": 1,
   "id": "5faa2fb3",
   "metadata": {},
   "outputs": [],
   "source": [
    "import numpy as np\n",
    "import pandas as pd\n",
    "import matplotlib.pyplot as plt\n",
    "\n",
    "np.set_printoptions(precision = 4)\n",
    "\n",
    "def Conta_Classes(Label_Set):\n",
    "    P = np.sum(np.equal(Label_Set, 1))\n",
    "    N = np.sum(np.equal(Label_Set, 0))\n",
    "    return np.array([P/(P+N), N/(P+N)])\n",
    "\n",
    "Train_Images = np.load('train_images.npy')/255\n",
    "Train_Labels = np.load('train_labels.npy')\n",
    "\n",
    "Val_Images = np.load('val_images.npy')/255\n",
    "Val_Labels = np.load('val_labels.npy')\n",
    "\n",
    "Test_Images = np.load('test_images.npy')/255\n",
    "Test_Labels = np.load('test_labels.npy')\n",
    "\n",
    "\n",
    "\n",
    "\n",
    "#Conta_Classes(Train_Labels)\n",
    "#Conta_Classes(Val_Labels)\n",
    "#Conta_Classes(Test_Labels)"
   ]
  },
  {
   "cell_type": "markdown",
   "id": "ad6212d5",
   "metadata": {},
   "source": [
    "O balanço entre classes obtido pela função *Conta_Classes* foi igual para os três conjuntos - treino, validação e teste:\n",
    "\n",
    "- Positivo: **73.08%**\n",
    "- Negativo: **26.92%**\n",
    "\n",
    "Há uma predominância da classe positiva, aproximadamente 3 em cada 4 amostras pertencem a esta classe."
   ]
  },
  {
   "cell_type": "code",
   "execution_count": 2,
   "id": "f85dc0f8",
   "metadata": {},
   "outputs": [],
   "source": [
    "#Extração de atributos a partir das imagens\n",
    "\n",
    "def Atributos(Image_Set, Dim_Image):\n",
    "    Atributos_Empilhados = np.empty((0, Dim_Image ** 2))\n",
    "    for Image in Image_Set:\n",
    "        Vetor_Linhas = np.empty(0)\n",
    "        for Linha in Image:\n",
    "            Vetor_Linhas = np.hstack((Vetor_Linhas, Linha))\n",
    "        Atributos_Empilhados = np.vstack((Atributos_Empilhados, Vetor_Linhas)) \n",
    "    Fi = np.hstack((np.ones((len(Atributos_Empilhados), 1)), Atributos_Empilhados))\n",
    "    return Fi\n",
    "    \n",
    "\n",
    "Dim_Image = len(Train_Images[0])\n",
    "Fi_Train = Atributos(Train_Images, Dim_Image)\n",
    "Fi_Val   = Atributos(Val_Images, Dim_Image)\n",
    "Fi_Test  = Atributos(Test_Images, Dim_Image)\n",
    "\n",
    "\n"
   ]
  },
  {
   "cell_type": "markdown",
   "id": "8a8394b6",
   "metadata": {},
   "source": [
    "A função Atributos foi utilizada para armazenar todos os pixels de uma imagem do conjunto em um vetor de tamanho $28^2 = 784$. Os atributos de cada imagem do conjunto foram empilhados e a matriz Fi de cada conjunto - treino, validação e teste - foi gerada."
   ]
  },
  {
   "cell_type": "code",
   "execution_count": 32,
   "id": "1deac066",
   "metadata": {},
   "outputs": [],
   "source": [
    "#Treinamento\n",
    "def Calcula_Grad(Fi_Train, w, Train_Labels):\n",
    "    E = np.empty((0, 1))\n",
    "    for i in range(len(Fi_Train)):\n",
    "        Label_Calc = 1 / (1 + np.exp(-(np.dot(Fi_Train[i], w))))\n",
    "        Erro = Train_Labels[i][0] - Label_Calc\n",
    "        E = np.vstack((E, Erro))\n",
    "    Grad = - 1/len(Fi_Train) * (np.matmul(E.T, Fi_Train))\n",
    "    return Grad[0]\n",
    "\n",
    "\n",
    "\n",
    "\n",
    "w = np.random.rand(len(Fi_Train[0]))\n",
    "\n",
    "Alfa = .01\n",
    "for i in range(10000):\n",
    "    w  = w - Alfa * Calcula_Grad(Fi_Train, w, Train_Labels)\n",
    "        \n"
   ]
  },
  {
   "cell_type": "markdown",
   "id": "5853209e",
   "metadata": {},
   "source": [
    "Para o treinamento foi utilizado o método do gradiente descendente em batelada, implementado na função *Calcula_Grad*. A escolha é coerente com base no tamanho do conjunto de dados deste problema. A rotina realiza uma função logística, com base nos atributos e vetor de parâmetros. O passo $\\alpha$ e o número de épocas de treinamento foram ajustados com base nos melhores valores de Acurácia Balanceada e Precisão alcançados na etapa de validação. Isto foi obtido com $\\alpha = .01$ e $10000$ épocas. Além disso, foi observado que o valor inicial do vetor de parâmetros também altera fundamentalmente os resultados. Resultados melhores foram obtidos com todos os parâmetros iniciando com valor de $0.5$ em comparação ao se inicializar todos com $1$. Inicializações aleatórias, seguindo uma distribuição uniforme no conjunto $[0, 1)$, também foram tentadas, e em alguns casos conseguiram gerar resultados levemente melhores."
   ]
  },
  {
   "cell_type": "code",
   "execution_count": 33,
   "id": "f4257028",
   "metadata": {},
   "outputs": [
    {
     "name": "stdout",
     "output_type": "stream",
     "text": [
      "Matriz de Confusão:\n",
      "\n",
      " [[55  2]\n",
      " [ 9 12]]\n",
      "\n",
      "BA:  0.768170426065163\n",
      "Acc:  0.8589743589743589\n",
      "Fm:  0.9090909090909092\n"
     ]
    }
   ],
   "source": [
    "#Validacao\n",
    "Label_Calcs = np.empty((0,1))\n",
    "for i in range(len(Fi_Val)):\n",
    "    Label_Calc = 1 / (1 + np.exp(-(np.dot(Fi_Val[i], w))))\n",
    "    if Label_Calc >= 0.5:\n",
    "        Label_Calc = 1\n",
    "    else:\n",
    "        Label_Calc = 0\n",
    "    Label_Calcs = np.vstack((Label_Calcs, Label_Calc))\n",
    "    \n",
    "\n",
    "TP = np.sum(np.equal(Label_Calcs, 1) & np.equal(Val_Labels, 1))\n",
    "FP = np.sum(np.equal(Label_Calcs, 1) & np.equal(Val_Labels, 0))\n",
    "FN = np.sum(np.equal(Label_Calcs, 0) & np.equal(Val_Labels, 1))\n",
    "TN = np.sum(np.equal(Label_Calcs, 0) & np.equal(Val_Labels, 0))\n",
    "    \n",
    "\n",
    "Matriz_Conf = np.array([[TP, FN], \n",
    "                        [FP, TN]])    \n",
    "    \n",
    "Espe = TN / (TN + FP)\n",
    "Sens = TP / (TP + FN)\n",
    "Prec = TP / (TP + FP)\n",
    "TFPo = FP / (TN + FP)\n",
    "\n",
    "BA = (Espe + Sens) / 2\n",
    "Acc = (TP + TN) / (TP + TN + FP + FN)\n",
    "Fm = (2 * Sens * Prec) / (Sens + Prec)\n",
    "\n",
    "\n",
    "print(\"Matriz de Confusão:\\n\\n\", Matriz_Conf)\n",
    "print('\\nBA: ', BA)\n",
    "print('Acc: ', Acc)\n",
    "print('Fm: ', Fm)\n"
   ]
  },
  {
   "cell_type": "markdown",
   "id": "cdc531b6",
   "metadata": {},
   "source": [
    "Para a validação foi utilizado o vetor de parâmetros obtido na etapa de treinamento. O limite utilizado para a escolha da classe foi de 0.5. Se o padrão calculado for maior que 0.5 o classificador escolhe classe positiva, caso contrário, escolhe classe negativa. A matriz de confusão foi obtida e com base nela as métricas de Acurácia Balanceada, Acurácia e F-medida foram calculadas."
   ]
  },
  {
   "cell_type": "code",
   "execution_count": 41,
   "id": "e31ca3c6",
   "metadata": {},
   "outputs": [
    {
     "name": "stdout",
     "output_type": "stream",
     "text": [
      "\n",
      "\n",
      "\n",
      "\n",
      "\n",
      "Matriz de Confusão:\n",
      "\n",
      " [[108   6]\n",
      " [ 26  16]]\n",
      "\n",
      "BA:  0.6641604010025062\n",
      "Acc:  0.7948717948717948\n",
      "Fm:  0.8709677419354839\n"
     ]
    }
   ],
   "source": [
    "#Teste\n",
    "Label_Calcs = np.empty((0,1))\n",
    "Label_Calcs_Bruto = np.empty((0,1)) #Será usado para curva ROC\n",
    "for i in range(len(Fi_Test)):\n",
    "    Label_Calc = 1 / (1 + np.exp(-(np.dot(Fi_Test[i], w))))\n",
    "    Label_Calcs_Bruto = np.vstack((Label_Calcs_Bruto, Label_Calc))\n",
    "    if Label_Calc >= 0.5:\n",
    "        Label_Calc = 1\n",
    "    else:\n",
    "        Label_Calc = 0\n",
    "    Label_Calcs = np.vstack((Label_Calcs, Label_Calc))\n",
    "    \n",
    "\n",
    "\n",
    "TP = np.sum(np.equal(Label_Calcs, 1) & np.equal(Test_Labels, 1))\n",
    "FP = np.sum(np.equal(Label_Calcs, 1) & np.equal(Test_Labels, 0))\n",
    "FN = np.sum(np.equal(Label_Calcs, 0) & np.equal(Test_Labels, 1))\n",
    "TN = np.sum(np.equal(Label_Calcs, 0) & np.equal(Test_Labels, 0))\n",
    "    \n",
    "\n",
    "Matriz_Conf = np.array([[TP, FN], \n",
    "                        [FP, TN]])    \n",
    "    \n",
    "Espe = TN / (TN + FP)\n",
    "Sens = TP / (TP + FN)\n",
    "Prec = TP / (TP + FP)\n",
    "TFPo = FP / (TN + FP)\n",
    "\n",
    "BA = (Espe + Sens) / 2\n",
    "Acc = (TP + TN) / (TP + TN + FP + FN)\n",
    "Fm = (2 * Sens * Prec) / (Sens + Prec)\n",
    "\n",
    "\n",
    "print(\"\\n\\n\\nMatriz de Confusão:\\n\\n\", Matriz_Conf)\n",
    "print('\\nBA: ', BA)\n",
    "print('Acc: ', Acc)\n",
    "print('Fm: ', Fm)\n",
    "\n",
    "\n"
   ]
  },
  {
   "cell_type": "markdown",
   "id": "629cd395",
   "metadata": {},
   "source": [
    "Na etapa de teste foi utilizado o vetor de parâmetros que gerou os melhores resultados na etapa de validação. Com ele os seguintes valores de métricas foram alcançados:\n",
    "\n",
    "- Acurácia Balanceada  = **0.66**\n",
    "- Acurácia             = **0.79**\n",
    "- F-medida             = **0.87**"
   ]
  },
  {
   "cell_type": "code",
   "execution_count": 35,
   "id": "a29e7df1",
   "metadata": {},
   "outputs": [
    {
     "data": {
      "image/png": "[encoded data removed]",
      "text/plain": [
       "<Figure size 640x480 with 1 Axes>"
      ]
     },
     "metadata": {},
     "output_type": "display_data"
    }
   ],
   "source": [
    "#Curva ROC\n",
    "\n",
    "Sens = []\n",
    "TFPo = []\n",
    "Thresholds = np.logspace(-100, 0, num = 10000)\n",
    "\n",
    "for Threshold in Thresholds:\n",
    "    \n",
    "    Label_Calc_ROC = np.empty((0,1))\n",
    "    for Label_Calc_Bruto in Label_Calcs_Bruto:\n",
    "        if Label_Calc_Bruto >= Threshold:\n",
    "            Label_Calc_Bruto = 1\n",
    "        else:\n",
    "            Label_Calc_Bruto = 0\n",
    "        Label_Calc_ROC = np.vstack((Label_Calc_ROC, Label_Calc_Bruto))\n",
    "    #print(Label_Calc_ROC)\n",
    "\n",
    "    TP = np.sum(np.equal(Label_Calc_ROC, 1) & np.equal(Test_Labels, 1))\n",
    "    FP = np.sum(np.equal(Label_Calc_ROC, 1) & np.equal(Test_Labels, 0))\n",
    "    FN = np.sum(np.equal(Label_Calc_ROC, 0) & np.equal(Test_Labels, 1))\n",
    "    TN = np.sum(np.equal(Label_Calc_ROC, 0) & np.equal(Test_Labels, 0))\n",
    "    \n",
    "    #print(TP, FP, FN, TN)\n",
    "\n",
    "    Sens.append(TP / (TP + FN)) \n",
    "    TFPo.append(FP / (FP + TN))\n",
    "    \n",
    "fig, ax = plt.subplots()\n",
    "ax.scatter(TFPo, Sens)\n",
    "ax.plot(np.linspace(0, 1, 6), np.linspace(0, 1, 6), '--', color = 'red')\n",
    "ax.set_xlabel('TFPo')\n",
    "ax.set_ylabel('Sens')\n",
    "plt.show()"
   ]
  },
  {
   "cell_type": "markdown",
   "id": "da156b6a",
   "metadata": {},
   "source": [
    "A curva ROC para o método de regressão logística não havia ficado muito clara antes de os dados serem normalizados. A função utilizada cravava os valores altos em um e baixos em zero, deixando pouca margem para a geração da curva. Contudo, após a normalização dos dados a curva conseguiu ser gerada de forma mais clara. Para diferentes limitantes, os valores de Sensibilidade e Taxa de Falso Positivo foram calculados. Percebe-se que o seu desempenho é de fato melhor que o classificador aleatório, caracterizado pela linha diagonal tracejada."
   ]
  },
  {
   "cell_type": "code",
   "execution_count": 36,
   "id": "160ae19d",
   "metadata": {},
   "outputs": [
    {
     "data": {
      "image/png": "[encoded data removed]",
      "text/plain": [
       "<Figure size 640x480 with 1 Axes>"
      ]
     },
     "metadata": {},
     "output_type": "display_data"
    }
   ],
   "source": [
    "# Knn para a validação\n",
    " \n",
    "def KNN(K, Fi_Set, Fi_Train):\n",
    "    Label_Calcs_Bruto = np.empty((0,1))\n",
    "    Label_Calcs = np.empty((0,1))\n",
    "    for Novo_Padrao in Fi_Set[:, 1:len(Fi_Set[0])]:\n",
    "        Distancias = np.empty((0, 2))\n",
    "        for Padrao, Label in zip(Fi_Train[:, 1:len(Fi_Train[0])], Train_Labels):\n",
    "            Distancia = [np.linalg.norm(Novo_Padrao - Padrao), Label[0]]\n",
    "            Distancias = np.vstack((Distancias, Distancia))\n",
    "        Distancias = np.sort(Distancias.view('f8, f8'), order=['f0'], axis=0)\n",
    "        Distancias = Distancias[0:K]\n",
    "        Distancias = Distancias.view(dtype = np.float64)\n",
    "        Label_Calc = np.sum(Distancias, axis = 0)[1] / K\n",
    "        Label_Calcs_Bruto = np.vstack((Label_Calcs_Bruto, Label_Calc))\n",
    "        if Label_Calc >= .5:\n",
    "            Label_Calc = 1\n",
    "        else:\n",
    "            Label_Calc = 0\n",
    "        Label_Calcs = np.vstack((Label_Calcs, Label_Calc))\n",
    "    return Label_Calcs, Label_Calcs_Bruto\n",
    "\n",
    "Ks = []\n",
    "BAs = []\n",
    "for K in range(1, 20, 1):    \n",
    "    \n",
    "    Label_Calcs, Label_Calcs_Bruto = KNN(K, Fi_Val, Fi_Train)\n",
    "\n",
    "    TP = np.sum(np.equal(Label_Calcs, 1) & np.equal(Val_Labels, 1))\n",
    "    FP = np.sum(np.equal(Label_Calcs, 1) & np.equal(Val_Labels, 0))\n",
    "    FN = np.sum(np.equal(Label_Calcs, 0) & np.equal(Val_Labels, 1))\n",
    "    TN = np.sum(np.equal(Label_Calcs, 0) & np.equal(Val_Labels, 0))\n",
    "\n",
    "\n",
    "    Matriz_Conf = np.array([[TP, FN], \n",
    "                            [FP, TN]])    \n",
    "\n",
    "    Espe = TN / (TN + FP)\n",
    "    Sens = TP / (TP + FN)\n",
    "    Prec = TP / (TP + FP)\n",
    "    TFPo = FP / (TN + FP)\n",
    "\n",
    "    BA = (Espe + Sens) / 2\n",
    "    Acc = (TP + TN) / (TP + TN + FP + FN)\n",
    "    Fm = (2 * Sens * Prec) / (Sens + Prec)\n",
    "    \n",
    "    BAs.append(BA)\n",
    "    Ks.append(K)\n",
    "\n",
    "fig, ax = plt.subplots()\n",
    "ax.scatter(Ks, BAs)\n",
    "ax.set_xlabel('Ks')\n",
    "ax.set_ylabel('BAs')\n",
    "plt.locator_params ('x', nbins = 2*len(Ks))\n",
    "plt.show()\n",
    "\n",
    "        "
   ]
  },
  {
   "cell_type": "markdown",
   "id": "fa3395b7",
   "metadata": {},
   "source": [
    "A função KNN implementa o método KNN, *K-nearest neighbors* para um certo valor $K$ de vizinhos e para um conjunto alvo, utilizando o conjunto de treinamento como base para o cálculo das distâncias. A função calcula a distância euclidiana de uma novo dado do conjunto de validação aos dados do conjunto de treinamento e atribui o novo rótulo com base na média aritmética dos rótulos dos K dados mais próximos ao novo dado. O gráfico gerado mostra como a acurácia balanceada, obtida utilizando o método KNN para o conjunto de validação, varia conforme o aumento do parâmetro $K$. Essa métrica foi escolhida, pois ela é boa para analisar situações em que há desbalanço entre as classes, como é o caso. Sendo assim, o valor escolhido para a etapa de teste foi $K = 1$, que proporcionou o melhor valor de Acurácia Balanceada."
   ]
  },
  {
   "cell_type": "code",
   "execution_count": 37,
   "id": "31206689",
   "metadata": {},
   "outputs": [
    {
     "name": "stdout",
     "output_type": "stream",
     "text": [
      "BA:  0.7337092731829574\n",
      "Acc:  0.7756410256410257\n",
      "Fm:  0.8430493273542601\n"
     ]
    }
   ],
   "source": [
    "# Knn para o teste com K = 1\n",
    "K = 1\n",
    "Label_Calcs, Label_Calcs_Bruto = KNN(K, Fi_Test, Fi_Train)\n",
    "\n",
    "TP = np.sum(np.equal(Label_Calcs, 1) & np.equal(Test_Labels, 1))\n",
    "FP = np.sum(np.equal(Label_Calcs, 1) & np.equal(Test_Labels, 0))\n",
    "FN = np.sum(np.equal(Label_Calcs, 0) & np.equal(Test_Labels, 1))\n",
    "TN = np.sum(np.equal(Label_Calcs, 0) & np.equal(Test_Labels, 0))\n",
    "\n",
    "\n",
    "Matriz_Conf = np.array([[TP, FN], \n",
    "                        [FP, TN]])    \n",
    "\n",
    "Espe = TN / (TN + FP)\n",
    "Sens = TP / (TP + FN)\n",
    "Prec = TP / (TP + FP)\n",
    "TFPo = FP / (TN + FP)\n",
    "\n",
    "BA = (Espe + Sens) / 2\n",
    "Acc = (TP + TN) / (TP + TN + FP + FN)\n",
    "Fm = (2 * Sens * Prec) / (Sens + Prec)\n",
    "\n",
    "print('BA: ', BA)\n",
    "print('Acc: ', Acc)\n",
    "print('Fm: ', Fm)\n",
    "\n"
   ]
  },
  {
   "cell_type": "markdown",
   "id": "260e07b1",
   "metadata": {},
   "source": [
    "Na etapa de teste com K = 1, as métricas de Acurácia Balanceada, Precisão e F-medida, foram calculadas:\n",
    "\n",
    "- Acurácia Balanceada  = **0.73**\n",
    "- Acurácia             = **0.77**\n",
    "- F-medida             = **0.84**\n",
    "\n",
    "Nota-se que o desempenho do modelo ficou tenuemente pior em termos de Acurácia Balanceada, mas mostrou uma melhora sutil na Acurácia e na F-medida, em comparação com os valores obtidos utilizando a regressão logística. A vantagem computacional deste método se dá por conta de que o modelo não precisar ser treinado e ter parâmetros ajustados."
   ]
  }
 ],
 "metadata": {
  "kernelspec": {
   "display_name": "Python 3 (ipykernel)",
   "language": "python",
   "name": "python3"
  },
  "language_info": {
   "codemirror_mode": {
    "name": "ipython",
    "version": 3
   },
   "file_extension": ".py",
   "mimetype": "text/x-python",
   "name": "python",
   "nbconvert_exporter": "python",
   "pygments_lexer": "ipython3",
   "version": "3.10.6"
  }
 },
 "nbformat": 4,
 "nbformat_minor": 5
}
