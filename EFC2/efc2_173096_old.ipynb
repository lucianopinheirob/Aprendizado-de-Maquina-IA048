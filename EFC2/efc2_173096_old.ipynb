{
 "cells": [
  {
   "cell_type": "markdown",
   "id": "59794626",
   "metadata": {},
   "source": [
    "Luciano Pinheiro Batista 173096"
   ]
  },
  {
   "cell_type": "code",
   "execution_count": 1,
   "id": "5faa2fb3",
   "metadata": {},
   "outputs": [],
   "source": [
    "import numpy as np\n",
    "import pandas as pd\n",
    "import matplotlib.pyplot as plt\n",
    "\n",
    "np.set_printoptions(precision = 4)\n",
    "\n",
    "def Conta_Classes(Label_Set):\n",
    "    P = np.sum(np.equal(Label_Set, 1))\n",
    "    N = np.sum(np.equal(Label_Set, 0))\n",
    "    return np.array([P/(P+N), N/(P+N)])\n",
    "\n",
    "Train_Images = np.load('train_images.npy')\n",
    "Train_Labels = np.load('train_labels.npy')\n",
    "\n",
    "Val_Images = np.load('val_images.npy')\n",
    "Val_Labels = np.load('val_labels.npy')\n",
    "\n",
    "Test_Images = np.load('test_images.npy')\n",
    "Test_Labels = np.load('test_labels.npy')\n",
    "\n",
    "\n",
    "#Conta_Classes(Train_Labels)\n",
    "#Conta_Classes(Val_Labels)\n",
    "#Conta_Classes(Test_Labels)"
   ]
  },
  {
   "cell_type": "markdown",
   "id": "ad6212d5",
   "metadata": {},
   "source": [
    "O balanço entre classes obtido pela função *Conta_Classes* foi igual para os três conjuntos - treino, validação e teste:\n",
    "\n",
    "- Positivo: **73.08%**\n",
    "- Negativo: **26.92%**\n",
    "\n",
    "Há uma predominância da classe positiva, aproximadamente 3 em cada 4 amostras pertencem a esta classe."
   ]
  },
  {
   "cell_type": "code",
   "execution_count": 2,
   "id": "f85dc0f8",
   "metadata": {},
   "outputs": [],
   "source": [
    "#Extração de atributos a partir das imagens\n",
    "\n",
    "def Atributos(Image_Set, Dim_Image):\n",
    "    Atributos_Test_Empilhados = np.empty((0, 88))\n",
    "    for image in Image_Set:\n",
    "        Soma = np.sum(image) / (Dim_Image ** 2)\n",
    "        Traco = np.trace(image)\n",
    "        Autovalores = np.linalg.eig(image)[0]\n",
    "        Autovalores = np.absolute(Autovalores)\n",
    "        Soma_Lin = np.array([0])\n",
    "        Soma_Col = np.array([0])\n",
    "        for lin in image:\n",
    "            Soma_Lin = np.hstack((Soma_Lin, np.sum(lin) / Dim_Image))\n",
    "        for col in image.T:\n",
    "            Soma_Col = np.hstack((Soma_Col, np.sum(col) / Dim_Image))\n",
    "        Atributos_Test = np.hstack((Soma, Autovalores, Traco, Soma_Lin, Soma_Col))\n",
    "        Atributos_Test_Empilhados = np.vstack((Atributos_Test_Empilhados, Atributos_Test)) \n",
    "    Fi = np.hstack((np.ones((len(Atributos_Test_Empilhados), 1)), Atributos_Test_Empilhados))\n",
    "    return Fi\n",
    "    \n",
    "\n",
    "Dim_Image = len(Train_Images[0])\n",
    "Fi_Train = Atributos(Train_Images, Dim_Image)\n",
    "Fi_Val   = Atributos(Val_Images, Dim_Image)\n",
    "Fi_Test  = Atributos(Test_Images, Dim_Image)"
   ]
  },
  {
   "cell_type": "markdown",
   "id": "8a8394b6",
   "metadata": {},
   "source": [
    "A função Atributos foi utilizada para extrair os seguintes atributos para cada imagem:\n",
    "\n",
    "- Média da soma dos elementos.\n",
    "- Traço da matriz.\n",
    "- Valores absolutos dos autovalores.\n",
    "- Média da soma dos elementos de cada linha.\n",
    "- Média da soma dos elementos de cada coluna.\n",
    "\n",
    "Outros atributos, como determinante e parte real dos autovalores, foram testados, contudo os atributos acima foram os que proporcionaram os melhores resultados. Os atributos de cada imagem foram empilhados e a matriz Fi de cada conjunto - treino, validação e teste - foi gerada."
   ]
  },
  {
   "cell_type": "code",
   "execution_count": 3,
   "id": "1deac066",
   "metadata": {},
   "outputs": [
    {
     "name": "stdout",
     "output_type": "stream",
     "text": [
      "0\n",
      "1000\n",
      "2000\n"
     ]
    }
   ],
   "source": [
    "#Treinamento\n",
    "def Calcula_Grad(Fi_Train, w, Train_Labels):\n",
    "    E = np.empty((0, 1))\n",
    "    for i in range(len(Fi_Train)):\n",
    "        Label_Calc = 1 / (1 + np.exp(-(np.dot(Fi_Train[i], w))))\n",
    "        Erro = Train_Labels[i][0] - Label_Calc\n",
    "        E = np.vstack((E, Erro))\n",
    "    Grad = - 1/len(Fi_Train) * (np.matmul(E.T, Fi_Train))\n",
    "    return Grad[0]\n",
    "\n",
    "w = np.loadtxt('Melhor_Parametro') \n",
    "\n",
    "\n",
    "Alfa = .0001\n",
    "for i in range(3000):\n",
    "    w  = w - Alfa * Calcula_Grad(Fi_Train, w, Train_Labels)\n",
    "    if i % 1000 == 0: \n",
    "        print(i)\n",
    "        \n"
   ]
  },
  {
   "cell_type": "markdown",
   "id": "5853209e",
   "metadata": {},
   "source": [
    "Para o treinamento foi utilizado o método do gradiente descendente em batelada, utilizando a função *Calcula_Grad*. A escolha é coerente com base no tamanho do conjunto de dados deste problema. A rotina implementa uma função logística, com base nos atributos e vetor de parâmetros. O passo $\\alpha$ e o número de épocas de treinamento foram ajustados com base nos melhores valores de Acurácia Balanceada e Precisão alcançados na etapa de validação. Isto foi obtido com $\\alpha = .0001$ e $10000$ épocas. Além disso, foi observado que o valor inicial do vetor de parâmetros também altera fundamentalmente os resultados. Os melhores resultados foram obtios com uma inicialização aleatória, seguindo uma distribuição uniforme no conjunto $[0, 1)$. Após a obtenção do melhor vetor de parâmetros, o modelo foi treinado novamente utilizando como condições iniciais o próprio vetor de parâmetros encontrado, com $3000$ épocas. Os resultados obtidos se mostraram ainda melhores. "
   ]
  },
  {
   "cell_type": "code",
   "execution_count": 35,
   "id": "f4257028",
   "metadata": {},
   "outputs": [
    {
     "name": "stdout",
     "output_type": "stream",
     "text": [
      "0.8107769423558897 0.8333333333333334 0.8828828828828829\n"
     ]
    }
   ],
   "source": [
    "#Validacao\n",
    "Label_Calcs = np.empty((0,1))\n",
    "for i in range(len(Fi_Val)):\n",
    "    Label_Calc = 1 / (1 + np.exp(-(np.dot(Fi_Val[i], w))))\n",
    "    if Label_Calc >= 0.5:\n",
    "        Label_Calc = 1\n",
    "    else:\n",
    "        Label_Calc = 0\n",
    "    Label_Calcs = np.vstack((Label_Calcs, Label_Calc))\n",
    "    \n",
    "\n",
    "TP = np.sum(np.equal(Label_Calcs, 1) & np.equal(Val_Labels, 1))\n",
    "FP = np.sum(np.equal(Label_Calcs, 1) & np.equal(Val_Labels, 0))\n",
    "FN = np.sum(np.equal(Label_Calcs, 0) & np.equal(Val_Labels, 1))\n",
    "TN = np.sum(np.equal(Label_Calcs, 0) & np.equal(Val_Labels, 0))\n",
    "    \n",
    "\n",
    "Matriz_Conf = np.array([[TP, FN], \n",
    "                        [FP, TN]])    \n",
    "    \n",
    "Espe = TN / (TN + FP)\n",
    "Sens = TP / (TP + FN)\n",
    "Prec = TP / (TP + FP)\n",
    "TFPo = FP / (TN + FP)\n",
    "\n",
    "BA = (Espe + Sens) / 2\n",
    "Acc = (TP + TN) / (TP + TN + FP + FN)\n",
    "Fm = (2 * Sens * Prec) / (Sens + Prec)\n",
    "\n",
    "print(BA, Acc, Fm)\n"
   ]
  },
  {
   "cell_type": "markdown",
   "id": "cdc531b6",
   "metadata": {},
   "source": [
    "Para a validação foi utilizado o vetor de parâmetros obtido na etapa de treinamento. O limite utilizado para a escolha da classe foi de 0.5. Se o padrão calculado for maior que 0.5 o classificador escolhe classe positiva, caso contrário, escolhe classe negativa. A matriz de confusão foi calculada e com base nela as métricas foram calculadas."
   ]
  },
  {
   "cell_type": "code",
   "execution_count": 6,
   "id": "e31ca3c6",
   "metadata": {},
   "outputs": [
    {
     "name": "stdout",
     "output_type": "stream",
     "text": [
      "0.7531328320802004 0.782051282051282 0.8454545454545455\n"
     ]
    }
   ],
   "source": [
    "#Teste\n",
    "Label_Calcs = np.empty((0,1))\n",
    "Label_Calcs_Bruto = np.empty((0,1)) #Será usado para curva ROC\n",
    "for i in range(len(Fi_Test)):\n",
    "    Label_Calc = 1 / (1 + np.exp(-(np.dot(Fi_Test[i], w))))\n",
    "    Label_Calcs_Bruto = np.vstack((Label_Calcs_Bruto, Label_Calc))\n",
    "    if Label_Calc >= 0.5:\n",
    "        Label_Calc = 1\n",
    "    else:\n",
    "        Label_Calc = 0\n",
    "    Label_Calcs = np.vstack((Label_Calcs, Label_Calc))\n",
    "    \n",
    "\n",
    "\n",
    "TP = np.sum(np.equal(Label_Calcs, 1) & np.equal(Test_Labels, 1))\n",
    "FP = np.sum(np.equal(Label_Calcs, 1) & np.equal(Test_Labels, 0))\n",
    "FN = np.sum(np.equal(Label_Calcs, 0) & np.equal(Test_Labels, 1))\n",
    "TN = np.sum(np.equal(Label_Calcs, 0) & np.equal(Test_Labels, 0))\n",
    "    \n",
    "\n",
    "Matriz_Conf = np.array([[TP, FN], \n",
    "                        [FP, TN]])    \n",
    "    \n",
    "Espe = TN / (TN + FP)\n",
    "Sens = TP / (TP + FN)\n",
    "Prec = TP / (TP + FP)\n",
    "TFPo = FP / (TN + FP)\n",
    "\n",
    "BA = (Espe + Sens) / 2\n",
    "Acc = (TP + TN) / (TP + TN + FP + FN)\n",
    "Fm = (2 * Sens * Prec) / (Sens + Prec)\n",
    "\n",
    "print(BA, Acc, Fm)\n"
   ]
  },
  {
   "cell_type": "markdown",
   "id": "629cd395",
   "metadata": {},
   "source": [
    "Na etapa de teste foi utilizado o melhor vetor de parâmetros obtido na etapa de validação. Com ele os seguintes valores de métricas foram alcançados:\n",
    "\n",
    "- Acurácia Balanceada  = **0.75**\n",
    "- Acurácia             = **0.78**\n",
    "- F-medida             = **0.84**"
   ]
  },
  {
   "cell_type": "code",
   "execution_count": 8,
   "id": "160ae19d",
   "metadata": {},
   "outputs": [
    {
     "data": {
      "image/png": "[encoded data removed]",
      "text/plain": [
       "<Figure size 640x480 with 1 Axes>"
      ]
     },
     "metadata": {},
     "output_type": "display_data"
    }
   ],
   "source": [
    "# Knn para a validação\n",
    " \n",
    "def KNN(K, Fi_Set, Fi_Train):\n",
    "    Label_Calcs_Bruto = np.empty((0,1))\n",
    "    Label_Calcs = np.empty((0,1))\n",
    "    for Novo_Padrao in Fi_Set[:, 1:len(Fi_Set[0])]:\n",
    "        Distancias = np.empty((0, 2))\n",
    "        for Padrao, Label in zip(Fi_Train[:, 1:len(Fi_Train[0])], Train_Labels):\n",
    "            Distancia = [np.linalg.norm(Novo_Padrao - Padrao), Label[0]]\n",
    "            Distancias = np.vstack((Distancias, Distancia))\n",
    "        Distancias = np.sort(Distancias.view('f8, f8'), order=['f0'], axis=0)\n",
    "        Distancias = Distancias[0:K]\n",
    "        Distancias = Distancias.view(dtype = np.float64)\n",
    "        Label_Calc = np.sum(Distancias, axis = 0)[1] / K\n",
    "        Label_Calcs_Bruto = np.vstack((Label_Calcs_Bruto, Label_Calc))\n",
    "        if Label_Calc >= .5:\n",
    "            Label_Calc = 1\n",
    "        else:\n",
    "            Label_Calc = 0\n",
    "        Label_Calcs = np.vstack((Label_Calcs, Label_Calc))\n",
    "    return Label_Calcs, Label_Calcs_Bruto\n",
    "\n",
    "Ks = []\n",
    "BAs = []\n",
    "for K in range(1, 20, 1):    \n",
    "    \n",
    "    Label_Calcs, Label_Calcs_Bruto = KNN(K, Fi_Val, Fi_Train)\n",
    "\n",
    "    TP = np.sum(np.equal(Label_Calcs, 1) & np.equal(Val_Labels, 1))\n",
    "    FP = np.sum(np.equal(Label_Calcs, 1) & np.equal(Val_Labels, 0))\n",
    "    FN = np.sum(np.equal(Label_Calcs, 0) & np.equal(Val_Labels, 1))\n",
    "    TN = np.sum(np.equal(Label_Calcs, 0) & np.equal(Val_Labels, 0))\n",
    "\n",
    "\n",
    "    Matriz_Conf = np.array([[TP, FN], \n",
    "                            [FP, TN]])    \n",
    "\n",
    "    Espe = TN / (TN + FP)\n",
    "    Sens = TP / (TP + FN)\n",
    "    Prec = TP / (TP + FP)\n",
    "    TFPo = FP / (TN + FP)\n",
    "\n",
    "    BA = (Espe + Sens) / 2\n",
    "    Acc = (TP + TN) / (TP + TN + FP + FN)\n",
    "    Fm = (2 * Sens * Prec) / (Sens + Prec)\n",
    "    \n",
    "    BAs.append(BA)\n",
    "    Ks.append(K)\n",
    "\n",
    "fig, ax = plt.subplots()\n",
    "ax.scatter(Ks, BAs)\n",
    "ax.set_xlabel('Ks')\n",
    "ax.set_ylabel('BAs')\n",
    "plt.show()\n",
    "\n",
    "        "
   ]
  },
  {
   "cell_type": "markdown",
   "id": "fa3395b7",
   "metadata": {},
   "source": [
    "A função KNN implementa o método KNN, *K-nearest neighbors* para um certo valor $K$ de vizinhos e para um conjunto alvo, utilizando o conjunto de treinamento como base para o cálculo das distâncias. A função calcula a distância euclidiana de uma novo dado do conjunto de validação aos dados do conjunto de treinamento e atribui o novo rótulo com base nos rótulos dos K dados mais próximos ao novo dado. O gráfico gerado mostra como a acurácia balanceada, obtida utilizando o método KNN para o conjunto de validação, varia conforme o aumento do parâmetro $K$. Essa métrica foi escolhida, pois ela é boa para analisar situações em que há desbalanço entre as classes, como é o caso. Sendo assim, o valor escolhido para a etapa de teste foi $K = 1$, que proporcionou o melhor valor de Acurácia Balanceada."
   ]
  },
  {
   "cell_type": "code",
   "execution_count": 12,
   "id": "31206689",
   "metadata": {},
   "outputs": [
    {
     "name": "stdout",
     "output_type": "stream",
     "text": [
      "0.6578947368421053 0.7307692307692307 0.8157894736842104\n"
     ]
    }
   ],
   "source": [
    "# Knn para o teste com K = 1\n",
    "K = 1\n",
    "Label_Calcs, Label_Calcs_Bruto = KNN(K, Fi_Test, Fi_Train)\n",
    "\n",
    "TP = np.sum(np.equal(Label_Calcs, 1) & np.equal(Test_Labels, 1))\n",
    "FP = np.sum(np.equal(Label_Calcs, 1) & np.equal(Test_Labels, 0))\n",
    "FN = np.sum(np.equal(Label_Calcs, 0) & np.equal(Test_Labels, 1))\n",
    "TN = np.sum(np.equal(Label_Calcs, 0) & np.equal(Test_Labels, 0))\n",
    "\n",
    "\n",
    "Matriz_Conf = np.array([[TP, FN], \n",
    "                        [FP, TN]])    \n",
    "\n",
    "Espe = TN / (TN + FP)\n",
    "Sens = TP / (TP + FN)\n",
    "Prec = TP / (TP + FP)\n",
    "TFPo = FP / (TN + FP)\n",
    "\n",
    "BA = (Espe + Sens) / 2\n",
    "Acc = (TP + TN) / (TP + TN + FP + FN)\n",
    "Fm = (2 * Sens * Prec) / (Sens + Prec)\n",
    "\n",
    "print(BA, Acc, Fm)\n",
    "\n"
   ]
  },
  {
   "cell_type": "markdown",
   "id": "260e07b1",
   "metadata": {},
   "source": [
    "Na etapa de teste com K = 1, as métricas de Acurácia Balanceada, Precisão e F-medida, foram calculadas. Nota-se que o desempenho do modelo fica abaixo em todas as três métricas em comparação com os valores obtidos utilizando a regressão logística. A vantagem se dá por conta de que o modelo, por conta do método utilizado, não precisou ser treinado."
   ]
  },
  {
   "cell_type": "code",
   "execution_count": 33,
   "id": "338f8491",
   "metadata": {},
   "outputs": [
    {
     "data": {
      "image/png": "[encoded data removed]",
      "text/plain": [
       "<Figure size 640x480 with 1 Axes>"
      ]
     },
     "metadata": {},
     "output_type": "display_data"
    }
   ],
   "source": [
    "#Curva ROC\n",
    "\n",
    "Sens = []\n",
    "TFPo = []\n",
    "Thresholds = np.arange(0, 1, 0.0001)\n",
    "\n",
    "# Knn para o teste com K = 20\n",
    "K = 20\n",
    "Label_Calcs, Label_Calcs_Bruto = KNN(K, Fi_Test, Fi_Train)\n",
    "\n",
    "for Threshold in Thresholds:\n",
    "    \n",
    "    Label_Calc_ROC = np.empty((0,1))\n",
    "    for Label_Calc_Bruto in Label_Calcs_Bruto:\n",
    "        if Label_Calc_Bruto >= Threshold:\n",
    "            Label_Calc_Bruto = 1\n",
    "        else:\n",
    "            Label_Calc_Bruto = 0\n",
    "        Label_Calc_ROC = np.vstack((Label_Calc_ROC, Label_Calc_Bruto))\n",
    "    #print(Label_Calc_ROC)\n",
    "\n",
    "    TP = np.sum(np.equal(Label_Calc_ROC, 1) & np.equal(Test_Labels, 1))\n",
    "    FP = np.sum(np.equal(Label_Calc_ROC, 1) & np.equal(Test_Labels, 0))\n",
    "    FN = np.sum(np.equal(Label_Calc_ROC, 0) & np.equal(Test_Labels, 1))\n",
    "    TN = np.sum(np.equal(Label_Calc_ROC, 0) & np.equal(Test_Labels, 0))\n",
    "    \n",
    "    #print(TP, FP, FN, TN)\n",
    "\n",
    "    Sens.append(TP / (TP + FN)) \n",
    "    TFPo.append(FP / (FP + TN))\n",
    "    \n",
    "fig, ax = plt.subplots()\n",
    "ax.scatter(TFPo, Sens)\n",
    "ax.plot(np.linspace(0, 1, 6), np.linspace(0, 1, 6), '--', color = 'red')\n",
    "ax.set_xlabel('TFPo')\n",
    "ax.set_ylabel('Sens')\n",
    "plt.show()"
   ]
  },
  {
   "cell_type": "markdown",
   "id": "4dfc71c7",
   "metadata": {},
   "source": [
    "Por conta de fatores computacionais, a curva ROC para o método de regressão logística não ficou muito clara. A função utilizada cravava os valores altos em um, deixando pouca margem para a geração da curva. Assim a curva ROC foi levantada para o método KNN utilizando K = 20. Para diferentes limitantes, os valores de Sensibilidade e Taxa de Falso Positivo foram calculados. Percebe-se que o seu desempenho é de fato melhor que o classificador aleatório, caracterizado pela linha diagonal tracejada."
   ]
  }
 ],
 "metadata": {
  "kernelspec": {
   "display_name": "Python 3 (ipykernel)",
   "language": "python",
   "name": "python3"
  },
  "language_info": {
   "codemirror_mode": {
    "name": "ipython",
    "version": 3
   },
   "file_extension": ".py",
   "mimetype": "text/x-python",
   "name": "python",
   "nbconvert_exporter": "python",
   "pygments_lexer": "ipython3",
   "version": "3.10.6"
  }
 },
 "nbformat": 4,
 "nbformat_minor": 5
}
