{
 "cells": [
  {
   "cell_type": "code",
   "execution_count": 38,
   "id": "f21e0b15",
   "metadata": {},
   "outputs": [],
   "source": [
    "import pandas as pd\n",
    "import numpy as np\n",
    "import matplotlib.pyplot as plt\n",
    "import time\n",
    "\n",
    "mg_df = pd.read_csv('mackeyglass.csv')"
   ]
  },
  {
   "cell_type": "code",
   "execution_count": 56,
   "id": "d3dafa55",
   "metadata": {},
   "outputs": [
    {
     "name": "stdout",
     "output_type": "stream",
     "text": [
      "1\n",
      "2\n",
      "3\n",
      "4\n",
      "5\n",
      "6\n",
      "7\n",
      "8\n",
      "9\n",
      "10\n",
      "11\n",
      "12\n",
      "13\n",
      "14\n",
      "15\n",
      "16\n",
      "17\n",
      "18\n",
      "19\n",
      "20\n",
      "21\n",
      "22\n",
      "23\n",
      "24\n",
      "25\n",
      "26\n",
      "27\n",
      "28\n",
      "29\n",
      "30\n",
      "ok\n"
     ]
    }
   ],
   "source": [
    "#Preparação dos dados de entrada e saída.\n",
    "def Entrada_Saida(K, L):\n",
    "    x = np.zeros([1, K])\n",
    "    y = np.zeros([1])\n",
    "    for i in range(len(P)-K-L+1):\n",
    "        xr = np.array([])\n",
    "        for j in range(K):\n",
    "            xr = np.append(xr, P[i+j])\n",
    "        x = np.vstack((x, xr))\n",
    "        y = np.vstack((y, P[i+K+L-1]))\n",
    "    x = x[1:len(x)]\n",
    "    y = y[1:len(y)]\n",
    "    return(x, y)\n",
    "\n",
    "def Transforma_Entrada(x, V):\n",
    "    XX_linha = np.zeros([len(x), 1])\n",
    "    for v in range(V):\n",
    "        wk = np.random.uniform(0, 1.5, K)\n",
    "        X_linha = []    \n",
    "        for i in range(len(x)):\n",
    "            x_r = x[i, :]\n",
    "            x_linha = np.tanh(np.dot(wk, x_r)) \n",
    "            X_linha.append(x_linha)      \n",
    "        X_linha = np.reshape(X_linha, (len(X_linha), 1))\n",
    "        XX_linha = np.hstack((XX_linha, X_linha))\n",
    "    XX_linha = XX_linha[:, 1:len(XX_linha[0])]\n",
    "    return XX_linha \n",
    "\n",
    "\n",
    "P = mg_df.p.values\n",
    "\n",
    "K = 10\n",
    "L = 7\n",
    "(x, y) = Entrada_Saida(K, L)\n",
    "\n",
    "ranw = 31\n",
    "\n",
    "x_linhas = np.zeros([len(x), 1])\n",
    "for V in range(1, ranw, 1):  \n",
    "    x_linha = Transforma_Entrada(x, V*10)      \n",
    "    x_linhas = np.hstack((x_linhas, x_linha))\n",
    "    print(V)\n",
    "    \n",
    "x_linhas = x_linhas[:, 1:len(x_linhas[0])]\n",
    "\n",
    "#A primeira coluna de x_linhas contém os atributos transformados para V = 1, as próximas 10 linhas contém\n",
    "#os atributos transformados para V = 10, e assim por diante, sempre aumentando de 10 em 10.\n",
    "        \n",
    "\n",
    "#Separação entre dados de teste e dados de validação\n",
    "x_linhas_teste = x_linhas[int(0.75*len(x_linhas)):len(x_linhas)]\n",
    "y_teste = y[int(0.75*len(y)):len(y)]\n",
    "\n",
    "x_linhas_treino = x_linhas[0:int(0.75*len(x_linhas))]\n",
    "y_treino = y[0:int(0.75*len(y))]\n",
    "\n",
    "#Separação das amostras que vão ser efeitivamente utilizadas para a aproximação e as amostras para validação\n",
    "x_linhas_aprox = x_linhas_treino[0:int(0.7*len(x_linhas_treino))]\n",
    "y_aprox = y_treino[0:int(0.7*len(y_treino))]\n",
    "\n",
    "x_linhas_valid =  x_linhas_treino[int(0.7*len(x_linhas_treino)):len(x_linhas_treino)]\n",
    "y_valid =  y_treino[int(0.7*len(y_treino)):len(y_treino)]\n",
    "\n",
    "print('ok')\n"
   ]
  },
  {
   "cell_type": "code",
   "execution_count": 64,
   "id": "b14d8b56",
   "metadata": {},
   "outputs": [
    {
     "name": "stdout",
     "output_type": "stream",
     "text": [
      "ok\n"
     ]
    }
   ],
   "source": [
    "#Treinamento\n",
    "\n",
    "def Calcula_Param(x, y, lamb):\n",
    "    temp = np.ones((len(x), 1))\n",
    "    fi = np.concatenate((temp, x), axis = 1)\n",
    "    aux = np.matmul(fi.T, fi) \n",
    "    z = np.zeros(len(aux)-1)\n",
    "    I = np.eye(len(aux)-1)\n",
    "    I_linha = np.vstack((z, I)) \n",
    "    z = np.zeros(len(I_linha))\n",
    "    z = np.reshape(z, [len(z), 1])\n",
    "    I_linha = np.hstack((z, I_linha))                                                                                                                                            \n",
    "    aux = aux + lamb*I_linha\n",
    "    FI = np.matmul(np.linalg.inv(aux), fi.T)\n",
    "    w = np.matmul(FI, y)\n",
    "    return (w)\n",
    "    \n",
    "indice_antes = 0\n",
    "indice_depois = 10\n",
    "\n",
    "W = np.zeros([1001, 1])\n",
    "for V in range (1, ranw, 1):\n",
    "        \n",
    "    x_linha_aprox_desempacotado = x_linhas_aprox[:, indice_antes : indice_depois]\n",
    "    \n",
    "    indice_antes = indice_antes + 10*V\n",
    "    indice_depois = indice_depois + 10*(V+1)\n",
    "    \n",
    "    \n",
    "    w = Calcula_Param(x_linha_aprox_desempacotado, y_aprox, 1)\n",
    "    Completa_w = np.zeros([1001-len(w), 1])\n",
    "    w = np.vstack((w, Completa_w))\n",
    "    W = np.hstack((W,w))\n",
    "    \n",
    "print('ok')\n",
    "        \n",
    "        \n"
   ]
  },
  {
   "cell_type": "code",
   "execution_count": 65,
   "id": "e9b2d15d",
   "metadata": {},
   "outputs": [
    {
     "data": {
      "image/png": "[encoded data removed]",
      "text/plain": [
       "<Figure size 640x480 with 1 Axes>"
      ]
     },
     "metadata": {},
     "output_type": "display_data"
    }
   ],
   "source": [
    "#Validação\n",
    "def Desempacota_Parametros(V, W):\n",
    "    w = W[:, V]\n",
    "    w = w[0:10*V+1]\n",
    "    w = np.reshape(w, (len(w), 1))\n",
    "    return w\n",
    "\n",
    "def Calcula_Saidas(x_valid, w, K, L):\n",
    "    Y = []\n",
    "    for i in range(len(x_valid)-K-L+1):\n",
    "        x = np.array([1])\n",
    "        x = np.append(x, x_valid[i])        \n",
    "        x = np.reshape(x, (len(x), 1))\n",
    "        y_calc = np.dot(w.T,x)  \n",
    "        y_calc = np.ndarray.tolist(y_calc[0])\n",
    "        y_esperado = y_valid[i+K+L-1]\n",
    "        Y.append((y_calc[0], y_esperado))\n",
    "    return(Y)\n",
    "\n",
    "def Calcula_RMSE(Y):\n",
    "    e = 0\n",
    "    for y in Y:\n",
    "        y_calc, y_esp = y\n",
    "        e += (y_calc - y_esp)**2\n",
    "    e = e/len(Y)\n",
    "    e = e**(1/2)\n",
    "    return e\n",
    "\n",
    "L = 7\n",
    "K = 10\n",
    "\n",
    "indice_antes = 0\n",
    "indice_depois = 10\n",
    "\n",
    "E = []\n",
    "Vs = []\n",
    "\n",
    "for V in range (1, len(W[0])):\n",
    "    \n",
    "    w = Desempacota_Parametros(V, W)\n",
    "    \n",
    "    x_linha_valid_desempacotado = x_linhas_valid[:, indice_antes : indice_depois]\n",
    "\n",
    "    indice_antes = indice_antes + 10*V\n",
    "    indice_depois = indice_depois + 10*(V+1)\n",
    "     \n",
    "    Y = Calcula_Saidas(x_linha_valid_desempacotado, w, K, L)\n",
    "    E.append(Calcula_RMSE(Y))\n",
    "    Vs.append(10*V)\n",
    "\n",
    "    \n",
    "    \n",
    "fig, ax = plt.subplots()\n",
    "ax.stem(Vs, E)\n",
    "ax.set_ylabel('RMSE')\n",
    "ax.set_xlabel('V')\n",
    "plt.show()\n"
   ]
  },
  {
   "cell_type": "code",
   "execution_count": 67,
   "id": "c2eead0b",
   "metadata": {},
   "outputs": [
    {
     "data": {
      "text/plain": [
       "array([0.26927773])"
      ]
     },
     "execution_count": 67,
     "metadata": {},
     "output_type": "execute_result"
    }
   ],
   "source": [
    "min(E)"
   ]
  },
  {
   "cell_type": "code",
   "execution_count": 68,
   "id": "8fd4143b",
   "metadata": {},
   "outputs": [
    {
     "data": {
      "text/plain": [
       "[array([0.26927773]),\n",
       " array([0.26941337]),\n",
       " array([0.26976013]),\n",
       " array([0.27015469]),\n",
       " array([0.27025111]),\n",
       " array([0.27008798]),\n",
       " array([0.27198826]),\n",
       " array([0.27088474]),\n",
       " array([0.27021007]),\n",
       " array([0.27440997]),\n",
       " array([0.26993462]),\n",
       " array([0.27104425]),\n",
       " array([0.27238025]),\n",
       " array([0.27394598]),\n",
       " array([0.27439761]),\n",
       " array([0.27116369]),\n",
       " array([0.27076957]),\n",
       " array([0.27182781]),\n",
       " array([0.27447302]),\n",
       " array([0.27292361]),\n",
       " array([0.27325911]),\n",
       " array([0.2784818]),\n",
       " array([0.27375475]),\n",
       " array([0.27275826]),\n",
       " array([0.27393767]),\n",
       " array([0.27422375]),\n",
       " array([0.27415327]),\n",
       " array([0.27894633]),\n",
       " array([0.27536245]),\n",
       " array([0.27312847])]"
      ]
     },
     "execution_count": 68,
     "metadata": {},
     "output_type": "execute_result"
    }
   ],
   "source": [
    "E"
   ]
  },
  {
   "cell_type": "code",
   "execution_count": 315,
   "id": "e34df502",
   "metadata": {},
   "outputs": [
    {
     "data": {
      "text/plain": [
       "array([ 20,  30,  40,  50,  60,  70,  80,  90, 100])"
      ]
     },
     "execution_count": 315,
     "metadata": {},
     "output_type": "execute_result"
    }
   ],
   "source": [
    "Vs"
   ]
  },
  {
   "cell_type": "code",
   "execution_count": 319,
   "id": "5a6d58cf",
   "metadata": {},
   "outputs": [],
   "source": [
    "Vs = np.reshape(Vs, (len(Vs), 1))"
   ]
  },
  {
   "cell_type": "code",
   "execution_count": 320,
   "id": "99e9ddd3",
   "metadata": {},
   "outputs": [],
   "source": [
    "Vs = np.delete(Vs, [0])"
   ]
  },
  {
   "cell_type": "code",
   "execution_count": 321,
   "id": "246ff468",
   "metadata": {},
   "outputs": [
    {
     "data": {
      "text/plain": [
       "array([ 30,  40,  50,  60,  70,  80,  90, 100])"
      ]
     },
     "execution_count": 321,
     "metadata": {},
     "output_type": "execute_result"
    }
   ],
   "source": [
    "Vs"
   ]
  },
  {
   "cell_type": "code",
   "execution_count": 7,
   "id": "21671455",
   "metadata": {},
   "outputs": [
    {
     "data": {
      "text/plain": [
       "array([[1., 0., 0.],\n",
       "       [0., 1., 0.],\n",
       "       [0., 0., 1.]])"
      ]
     },
     "execution_count": 7,
     "metadata": {},
     "output_type": "execute_result"
    }
   ],
   "source": []
  },
  {
   "cell_type": "code",
   "execution_count": 8,
   "id": "0e8e1daf",
   "metadata": {},
   "outputs": [
    {
     "ename": "NameError",
     "evalue": "name 'FI' is not defined",
     "output_type": "error",
     "traceback": [
      "\u001b[0;31m---------------------------------------------------------------------------\u001b[0m",
      "\u001b[0;31mNameError\u001b[0m                                 Traceback (most recent call last)",
      "Cell \u001b[0;32mIn [8], line 1\u001b[0m\n\u001b[0;32m----> 1\u001b[0m m \u001b[38;5;241m=\u001b[39m np\u001b[38;5;241m.\u001b[39mzeros(\u001b[38;5;28mlen\u001b[39m(\u001b[43mFI\u001b[49m[\u001b[38;5;241m0\u001b[39m]))\n\u001b[1;32m      2\u001b[0m n \u001b[38;5;241m=\u001b[39m np\u001b[38;5;241m.\u001b[39meye(\u001b[38;5;28mlen\u001b[39m(FI))\n\u001b[1;32m      3\u001b[0m z \u001b[38;5;241m=\u001b[39m np\u001b[38;5;241m.\u001b[39mhstack()\n",
      "\u001b[0;31mNameError\u001b[0m: name 'FI' is not defined"
     ]
    }
   ],
   "source": [
    "m = \n"
   ]
  },
  {
   "cell_type": "code",
   "execution_count": 14,
   "id": "ab996df7",
   "metadata": {},
   "outputs": [
    {
     "data": {
      "text/plain": [
       "array([[0., 0.],\n",
       "       [1., 0.],\n",
       "       [0., 1.]])"
      ]
     },
     "execution_count": 14,
     "metadata": {},
     "output_type": "execute_result"
    }
   ],
   "source": [
    "fi = np.random.rand(2,2)\n",
    "\n",
    "I_linha = np.vstack((np.zeros(len(fi[0])), np.eye(len(fi))))\n",
    "\n",
    "I_linha"
   ]
  },
  {
   "cell_type": "code",
   "execution_count": null,
   "id": "18ee9a16",
   "metadata": {},
   "outputs": [],
   "source": []
  }
 ],
 "metadata": {
  "kernelspec": {
   "display_name": "Python 3 (ipykernel)",
   "language": "python",
   "name": "python3"
  },
  "language_info": {
   "codemirror_mode": {
    "name": "ipython",
    "version": 3
   },
   "file_extension": ".py",
   "mimetype": "text/x-python",
   "name": "python",
   "nbconvert_exporter": "python",
   "pygments_lexer": "ipython3",
   "version": "3.10.4"
  }
 },
 "nbformat": 4,
 "nbformat_minor": 5
}
