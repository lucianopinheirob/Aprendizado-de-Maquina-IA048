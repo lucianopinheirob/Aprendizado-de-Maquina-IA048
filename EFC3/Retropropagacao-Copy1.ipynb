{
 "cells": [
  {
   "cell_type": "code",
   "execution_count": 1,
   "id": "4cae0a0d",
   "metadata": {},
   "outputs": [],
   "source": [
    "import numpy as np\n",
    "import pandas as pd\n",
    "import matplotlib.pyplot as plt"
   ]
  },
  {
   "cell_type": "code",
   "execution_count": 5,
   "id": "5e06a284",
   "metadata": {},
   "outputs": [],
   "source": [
    "class Perceptron:\n",
    "    def __init(self, entrada):\n",
    "        self.entrada = np.hstack((1, param))\n",
    "        self.param = np.random.rand(length(param))\n",
    "    \n",
    "    def Saida(self):\n",
    "        saida = np.tanh(np.dot(self.entrada, self.param))\n",
    "        return saida\n",
    "\n",
    "class MLP(Perceptron):\n",
    "    def __init__(self, entrada, camadas):\n",
    "        self.entrada = np.hstack((1, param))\n",
    "        self.camadas = camadas\n",
    "   \n",
    "    def Saidas_Camadas:\n",
    "        for neuronios in self.camadas:\n",
    "            saidas_camadas = np.empty([])\n",
    "            for neuronio in neuronios:\n",
    "                saidas_camadas = np.hstack((saidas_camadas, self.Saida()))\n",
    "            \n",
    "    \n",
    "    "
   ]
  },
  {
   "cell_type": "code",
   "execution_count": null,
   "id": "b7311ac5",
   "metadata": {},
   "outputs": [],
   "source": [
    "def Perceptron(Entrada, Param = None):\n",
    "    if Param == None:\n",
    "        Param = np.random.rand(len(Entrada))\n",
    "    Saida = np.tanh(np.dot(Entrada, Param))\n",
    "    return Saida\n",
    "\n",
    "def MLP_1(Entradas):\n",
    "    Saidas = np.empty([])\n",
    "    for Entrada in Entradas:\n",
    "        Saida = Perceptron(Entrada)\n",
    "        Saidas = np.hstack((Saidas, Saida))\n",
    "        \n",
    "def MLP_n(Entradas, Camadas):\n",
    "    Entradas = MLP_1(Entradas) #Saídas da primeira camada\n",
    "    for Neuronios in Camadas:\n",
    "        Saidas = np.empty([])\n",
    "        for Neuronio in range(len(Neuronios)):\n",
    "            Saida = Perceptron(Entradas)\n",
    "            Saidas = np.hstack(Saidas, Saida)\n",
    "        Entradas = Saidas\n",
    "    return Saidas\n",
    "        \n",
    "# medir o erro entre a saída calculada e a real\n",
    "# calcular a função de custo com base no erro\n",
    "    \n",
    "Camadas = [3, 2] # 3 neuronios na segunda camada, 2 na terceira\n",
    "Entradas = [1, 4, 5, 4]  # 1, x1 = 4, x2 = 5"
   ]
  }
 ],
 "metadata": {
  "kernelspec": {
   "display_name": "Python 3 (ipykernel)",
   "language": "python",
   "name": "python3"
  },
  "language_info": {
   "codemirror_mode": {
    "name": "ipython",
    "version": 3
   },
   "file_extension": ".py",
   "mimetype": "text/x-python",
   "name": "python",
   "nbconvert_exporter": "python",
   "pygments_lexer": "ipython3",
   "version": "3.10.4"
  }
 },
 "nbformat": 4,
 "nbformat_minor": 5
}
